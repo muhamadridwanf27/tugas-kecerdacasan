{
  "nbformat": 4,
  "nbformat_minor": 0,
  "metadata": {
    "colab": {
      "provenance": []
    },
    "kernelspec": {
      "name": "python3",
      "display_name": "Python 3"
    },
    "language_info": {
      "name": "python"
    }
  },
  "cells": [
    {
      "cell_type": "markdown",
      "source": [
        "GUMILAR ICHSANULHAQ"
      ],
      "metadata": {
        "id": "nDN8nTR6cmbq"
      }
    },
    {
      "cell_type": "code",
      "execution_count": null,
      "metadata": {
        "id": "y_wtD2g-Ry2Q"
      },
      "outputs": [],
      "source": [
        "import pandas as pd\n",
        "import numpy as np\n",
        "import matplotlib.pyplot as plt\n",
        "from sklearn import tree\n",
        "from sklearn.tree import DecisionTreeClassifier\n",
        "from sklearn.cluster import KMeans\n",
        "from sklearn.model_selection import train_test_split\n",
        "from sklearn.metrics import accuracy_score, davies_bouldin_score\n",
        "dataset = pd.read_csv('golf.csv')\n",
        "\n",
        "print('sample data')\n",
        "dataset.head()"
      ]
    },
    {
      "cell_type": "code",
      "source": [
        "dataset.isna().sum()"
      ],
      "metadata": {
        "id": "HCaQaWc5cmGu"
      },
      "execution_count": null,
      "outputs": []
    },
    {
      "cell_type": "code",
      "source": [
        "dataset.dtypes"
      ],
      "metadata": {
        "id": "DQqEhWvLcy6K"
      },
      "execution_count": null,
      "outputs": []
    },
    {
      "cell_type": "code",
      "source": [
        "x = dataset.iloc[:, :4]\n",
        "y = dataset['label']\n",
        "\n",
        "xTrain,xTest,yTrain,yTest = train_test_split(x, y, test_size=0.3,random_state=0)"
      ],
      "metadata": {
        "id": "VC4RelB7c7Pv"
      },
      "execution_count": null,
      "outputs": []
    },
    {
      "cell_type": "code",
      "source": [
        "dt = DecisionTreeClassifier()\n",
        "dt.fit(xTrain, yTrain)"
      ],
      "metadata": {
        "id": "-Rbw5x33d_vs"
      },
      "execution_count": null,
      "outputs": []
    },
    {
      "cell_type": "code",
      "source": [
        "plt.figure(figsize=(5, 5))\n",
        "tree.plot_tree(dt, filled=true)"
      ],
      "metadata": {
        "id": "jPXERFZzeqzN"
      },
      "execution_count": null,
      "outputs": []
    },
    {
      "cell_type": "code",
      "source": [],
      "metadata": {
        "id": "99a7qBu_fQY8"
      },
      "execution_count": null,
      "outputs": []
    }
  ]
}